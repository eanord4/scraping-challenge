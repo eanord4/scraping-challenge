{
 "cells": [
  {
   "cell_type": "markdown",
   "metadata": {},
   "source": [
    "# 12-Web-Scraping-and-Document-Databases\n",
    "Eric Nordstrom"
   ]
  },
  {
   "cell_type": "markdown",
   "metadata": {},
   "source": [
    "### Setup"
   ]
  },
  {
   "cell_type": "code",
   "execution_count": 108,
   "metadata": {},
   "outputs": [],
   "source": [
    "# dependencies\n",
    "from selenium import webdriver\n",
    "from bs4 import BeautifulSoup as BS\n",
    "import requests\n",
    "import pandas as pd\n",
    "from pprint import pprint"
   ]
  },
  {
   "cell_type": "markdown",
   "metadata": {},
   "source": [
    "### NASA Mars News"
   ]
  },
  {
   "cell_type": "code",
   "execution_count": 62,
   "metadata": {},
   "outputs": [
    {
     "name": "stdout",
     "output_type": "stream",
     "text": [
      "February 27, 2020\n",
      "The MarCO Mission Comes to an End\n",
      "\n",
      "The pair of briefcase-sized satellites made history when they sailed past Mars in 2019.\n",
      "\n",
      "More: https://mars.nasa.gov/news/8408/the-marco-mission-comes-to-an-end/\n"
     ]
    }
   ],
   "source": [
    "# set up driver\n",
    "url = \"https://mars.nasa.gov/news\"\n",
    "driver = webdriver.Firefox()\n",
    "\n",
    "# get html to parse\n",
    "driver.get(url)\n",
    "soup = BS(driver.page_source, \"html.parser\")\n",
    "\n",
    "# parse html\n",
    "item = soup.find('li', class_=\"slide\")\n",
    "date = item.find('div', class_=\"list_date\").text\n",
    "title_a = item.find('div', class_=\"content_title\").a\n",
    "title = title_a.text\n",
    "href = title_a['href']\n",
    "para = item.find('div', class_=\"article_teaser_body\").text\n",
    "\n",
    "# display results\n",
    "print(date)\n",
    "print(title)\n",
    "print()\n",
    "print(para)\n",
    "print(\"\\nMore:\", \"https://mars.nasa.gov\" + href)"
   ]
  },
  {
   "cell_type": "markdown",
   "metadata": {},
   "source": [
    "### JPL Mars Space Images - Featured Image"
   ]
  },
  {
   "cell_type": "code",
   "execution_count": 65,
   "metadata": {},
   "outputs": [
    {
     "name": "stdout",
     "output_type": "stream",
     "text": [
      "Beagle 2 Lander Observed by Mars Reconnaissance Orbiter\n",
      "\n",
      "NASA's Mars Reconnaissance Orbiter shows a bright feature interpreted as the United Kingdom's Beagle 2 Lander, which was never heard from after its expected December 25, 2003, landing.\n",
      "\n",
      "Image: https://www.jpl.nasa.gov/spaceimages/images/mediumsize/PIA19108_ip.jpg\n"
     ]
    }
   ],
   "source": [
    "# get html to parse\n",
    "url = \"https://www.jpl.nasa.gov/spaceimages/?search=&category=Mars\"\n",
    "r = requests.get(url)\n",
    "assert(r.status_code == 200)\n",
    "soup = BS(r.text, \"html.parser\")\n",
    "\n",
    "# parse html\n",
    "button_a = soup.find('a', id=\"full_image\")\n",
    "featured_image_url = \"https://www.jpl.nasa.gov\" + button_a['data-fancybox-href']\n",
    "title = button_a['data-title']\n",
    "desc = button_a['data-description']\n",
    "\n",
    "# display results\n",
    "print(title, desc, \"Image:\", sep=\"\\n\\n\", end=\" \")\n",
    "print(featured_image_url)"
   ]
  },
  {
   "cell_type": "markdown",
   "metadata": {},
   "source": [
    "### Mars Weather"
   ]
  },
  {
   "cell_type": "code",
   "execution_count": 94,
   "metadata": {
    "scrolled": true
   },
   "outputs": [
    {
     "name": "stdout",
     "output_type": "stream",
     "text": [
      "InSight sol 447 (2020-02-28) low -92.6ºC (-134.6ºF) high -11.1ºC (12.0ºF)\n",
      "winds from the SSW at 5.8 m/s (13.1 mph) gusting to 20.2 m/s (45.2 mph)\n",
      "pressure at 6.30 hPa\n"
     ]
    }
   ],
   "source": [
    "# get html to parse\n",
    "url = \"https://twitter.com/marswxreport?lang=en\"\n",
    "r = requests.get(url)\n",
    "assert(r.status_code == 200)\n",
    "soup = BS(r.text, \"html.parser\")\n",
    "\n",
    "# parse html\n",
    "# for some reason this shows up as a `span` via the inspector, but something\n",
    "# goes wrong via requests and even selenium. the 'p' tag below was found via\n",
    "# <str.find> on the request html but does not appear via the inspector.\n",
    "p = soup.find('p', class_=\"tweet-text\")\n",
    "mars_weather = p.text.split(\"pic.twitter.com/\")[0]\n",
    "\n",
    "# display results\n",
    "print(mars_weather)"
   ]
  },
  {
   "cell_type": "markdown",
   "metadata": {},
   "source": [
    "### Mars Facts"
   ]
  },
  {
   "cell_type": "code",
   "execution_count": 111,
   "metadata": {},
   "outputs": [
    {
     "name": "stdout",
     "output_type": "stream",
     "text": [
      "<table border=\"1\" class=\"dataframe\">\n",
      "  <thead>\n",
      "    <tr style=\"text-align: right;\">\n",
      "      <th></th>\n",
      "      <th>Value</th>\n",
      "    </tr>\n",
      "    <tr>\n",
      "      <th>Property</th>\n",
      "      <th></th>\n",
      "    </tr>\n",
      "  </thead>\n",
      "  <tbody>\n",
      "    <tr>\n",
      "      <th>Equatorial Diameter:</th>\n",
      "      <td>6,792 km</td>\n",
      "    </tr>\n",
      "    <tr>\n",
      "      <th>Polar Diameter:</th>\n",
      "      <td>6,752 km</td>\n",
      "    </tr>\n",
      "    <tr>\n",
      "      <th>Mass:</th>\n",
      "      <td>6.39 × 10^23 kg (0.11 Earths)</td>\n",
      "    </tr>\n",
      "    <tr>\n",
      "      <th>Moons:</th>\n",
      "      <td>2 (Phobos &amp; Deimos)</td>\n",
      "    </tr>\n",
      "    <tr>\n",
      "      <th>Orbit Distance:</th>\n",
      "      <td>227,943,824 km (1.38 AU)</td>\n",
      "    </tr>\n",
      "    <tr>\n",
      "      <th>Orbit Period:</th>\n",
      "      <td>687 days (1.9 years)</td>\n",
      "    </tr>\n",
      "    <tr>\n",
      "      <th>Surface Temperature:</th>\n",
      "      <td>-87 to -5 °C</td>\n",
      "    </tr>\n",
      "    <tr>\n",
      "      <th>First Record:</th>\n",
      "      <td>2nd millennium BC</td>\n",
      "    </tr>\n",
      "    <tr>\n",
      "      <th>Recorded By:</th>\n",
      "      <td>Egyptian astronomers</td>\n",
      "    </tr>\n",
      "  </tbody>\n",
      "</table>\n",
      "\n",
      "<table border=\"1\" class=\"dataframe\">\n",
      "  <thead>\n",
      "    <tr style=\"text-align: right;\">\n",
      "      <th></th>\n",
      "      <th>Mars</th>\n",
      "      <th>Earth</th>\n",
      "    </tr>\n",
      "    <tr>\n",
      "      <th>Property</th>\n",
      "      <th></th>\n",
      "      <th></th>\n",
      "    </tr>\n",
      "  </thead>\n",
      "  <tbody>\n",
      "    <tr>\n",
      "      <th>Diameter:</th>\n",
      "      <td>6,779 km</td>\n",
      "      <td>12,742 km</td>\n",
      "    </tr>\n",
      "    <tr>\n",
      "      <th>Mass:</th>\n",
      "      <td>6.39 × 10^23 kg</td>\n",
      "      <td>5.97 × 10^24 kg</td>\n",
      "    </tr>\n",
      "    <tr>\n",
      "      <th>Moons:</th>\n",
      "      <td>2</td>\n",
      "      <td>1</td>\n",
      "    </tr>\n",
      "    <tr>\n",
      "      <th>Distance from Sun:</th>\n",
      "      <td>227,943,824 km</td>\n",
      "      <td>149,598,262 km</td>\n",
      "    </tr>\n",
      "    <tr>\n",
      "      <th>Length of Year:</th>\n",
      "      <td>687 Earth days</td>\n",
      "      <td>365.24 days</td>\n",
      "    </tr>\n",
      "    <tr>\n",
      "      <th>Temperature:</th>\n",
      "      <td>-153 to 20 °C</td>\n",
      "      <td>-88 to 58°C</td>\n",
      "    </tr>\n",
      "  </tbody>\n",
      "</table>\n"
     ]
    }
   ],
   "source": [
    "#get html to parse\n",
    "url = \"http://space-facts.com/mars/\"\n",
    "r = requests.get(url)\n",
    "assert(r.status_code == 200)\n",
    "\n",
    "# parse html\n",
    "# \"HTML table string\"? i think just a data frame makes sense?\n",
    "tables = pd.read_html(r.text)\n",
    "mars_facts = tables[0].rename(columns={0: \"Property\", 1: \"Value\"}).set_index(\"Property\").to_html()\n",
    "earth_comparison = tables[1].rename(columns={\"Mars - Earth Comparison\": \"Property\"}).set_index(\"Property\").to_html()\n",
    "\n",
    "# display results\n",
    "print(mars_facts)\n",
    "print()\n",
    "print(earth_comparison)"
   ]
  },
  {
   "cell_type": "code",
   "execution_count": null,
   "metadata": {},
   "outputs": [],
   "source": []
  }
 ],
 "metadata": {
  "kernelspec": {
   "display_name": "Python 3",
   "language": "python",
   "name": "python3"
  },
  "language_info": {
   "codemirror_mode": {
    "name": "ipython",
    "version": 3
   },
   "file_extension": ".py",
   "mimetype": "text/x-python",
   "name": "python",
   "nbconvert_exporter": "python",
   "pygments_lexer": "ipython3",
   "version": "3.7.6"
  }
 },
 "nbformat": 4,
 "nbformat_minor": 4
}
