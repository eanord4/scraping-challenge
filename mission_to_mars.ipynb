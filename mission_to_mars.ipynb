{
 "cells": [
  {
   "cell_type": "code",
   "execution_count": 45,
   "metadata": {},
   "outputs": [],
   "source": [
    "# dependencies\n",
    "from selenium import webdriver\n",
    "from bs4 import BeautifulSoup as BS\n",
    "import requests\n",
    "\n",
    "# set up driver\n",
    "url = \"https://mars.nasa.gov/news\"\n",
    "driver = webdriver.Firefox()\n",
    "\n",
    "# get html to parse\n",
    "driver.get(url)\n",
    "soup = BS(driver.page_source)"
   ]
  },
  {
   "cell_type": "code",
   "execution_count": 46,
   "metadata": {},
   "outputs": [
    {
     "name": "stdout",
     "output_type": "stream",
     "text": [
      "February 27, 2020\n",
      "The MarCO Mission Comes to an End\n",
      "The pair of briefcase-sized satellites made history when they sailed past Mars in 2019.\n"
     ]
    }
   ],
   "source": [
    "# parse html\n",
    "item = soup.find('li', class_=\"slide\")\n",
    "date = item.find('div', class_=\"list_date\").text\n",
    "title = item.find('div', class_=\"content_title\").a.text\n",
    "para = item.find('div', class_=\"article_teaser_body\").text\n",
    "\n",
    "# display results\n",
    "print(date)\n",
    "print(title)\n",
    "print(para)"
   ]
  },
  {
   "cell_type": "code",
   "execution_count": null,
   "metadata": {},
   "outputs": [],
   "source": []
  }
 ],
 "metadata": {
  "kernelspec": {
   "display_name": "Python 3",
   "language": "python",
   "name": "python3"
  },
  "language_info": {
   "codemirror_mode": {
    "name": "ipython",
    "version": 3
   },
   "file_extension": ".py",
   "mimetype": "text/x-python",
   "name": "python",
   "nbconvert_exporter": "python",
   "pygments_lexer": "ipython3",
   "version": "3.7.6"
  }
 },
 "nbformat": 4,
 "nbformat_minor": 4
}
