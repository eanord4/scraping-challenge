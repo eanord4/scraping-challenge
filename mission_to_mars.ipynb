{
 "cells": [
  {
   "cell_type": "markdown",
   "metadata": {},
   "source": [
    "# 12-Web-Scraping-and-Document-Databases\n",
    "Eric Nordstrom"
   ]
  },
  {
   "cell_type": "markdown",
   "metadata": {},
   "source": [
    "### Setup"
   ]
  },
  {
   "cell_type": "code",
   "execution_count": 53,
   "metadata": {},
   "outputs": [],
   "source": [
    "# dependencies\n",
    "from selenium import webdriver\n",
    "from bs4 import BeautifulSoup as BS\n",
    "import requests"
   ]
  },
  {
   "cell_type": "markdown",
   "metadata": {},
   "source": [
    "### NASA Mars News"
   ]
  },
  {
   "cell_type": "code",
   "execution_count": 62,
   "metadata": {},
   "outputs": [
    {
     "name": "stdout",
     "output_type": "stream",
     "text": [
      "February 27, 2020\n",
      "The MarCO Mission Comes to an End\n",
      "\n",
      "The pair of briefcase-sized satellites made history when they sailed past Mars in 2019.\n",
      "\n",
      "More: https://mars.nasa.gov/news/8408/the-marco-mission-comes-to-an-end/\n"
     ]
    }
   ],
   "source": [
    "# set up driver\n",
    "url = \"https://mars.nasa.gov/news\"\n",
    "driver = webdriver.Firefox()\n",
    "\n",
    "# get html to parse\n",
    "driver.get(url)\n",
    "soup = BS(driver.page_source, \"html.parser\")\n",
    "\n",
    "# parse html\n",
    "item = soup.find('li', class_=\"slide\")\n",
    "date = item.find('div', class_=\"list_date\").text\n",
    "title_a = item.find('div', class_=\"content_title\").a\n",
    "title = title_a.text\n",
    "href = title_a['href']\n",
    "para = item.find('div', class_=\"article_teaser_body\").text\n",
    "\n",
    "# display results\n",
    "print(date)\n",
    "print(title)\n",
    "print()\n",
    "print(para)\n",
    "print(\"\\nMore:\", \"https://mars.nasa.gov\" + href)"
   ]
  },
  {
   "cell_type": "markdown",
   "metadata": {},
   "source": [
    "### JPL Mars Space Images - Featured Image"
   ]
  },
  {
   "cell_type": "code",
   "execution_count": 65,
   "metadata": {},
   "outputs": [
    {
     "name": "stdout",
     "output_type": "stream",
     "text": [
      "Beagle 2 Lander Observed by Mars Reconnaissance Orbiter\n",
      "\n",
      "NASA's Mars Reconnaissance Orbiter shows a bright feature interpreted as the United Kingdom's Beagle 2 Lander, which was never heard from after its expected December 25, 2003, landing.\n",
      "\n",
      "Image: https://www.jpl.nasa.gov/spaceimages/images/mediumsize/PIA19108_ip.jpg\n"
     ]
    }
   ],
   "source": [
    "# get html to parse\n",
    "url = \"https://www.jpl.nasa.gov/spaceimages/?search=&category=Mars\"\n",
    "r = requests.get(url)\n",
    "assert(r.status_code == 200)\n",
    "soup = BS(r.text, \"html.parser\")\n",
    "\n",
    "# parse html\n",
    "button_a = soup.find('a', id=\"full_image\")\n",
    "featured_image_url = \"https://www.jpl.nasa.gov\" + button_a['data-fancybox-href']\n",
    "title = button_a['data-title']\n",
    "desc = button_a['data-description']\n",
    "\n",
    "# display results\n",
    "print(title, desc, \"Image:\", sep=\"\\n\\n\", end=\" \")\n",
    "print(featured_image_url)"
   ]
  },
  {
   "cell_type": "markdown",
   "metadata": {},
   "source": [
    "### Mars Weather"
   ]
  },
  {
   "cell_type": "code",
   "execution_count": 94,
   "metadata": {
    "scrolled": true
   },
   "outputs": [
    {
     "name": "stdout",
     "output_type": "stream",
     "text": [
      "InSight sol 447 (2020-02-28) low -92.6ºC (-134.6ºF) high -11.1ºC (12.0ºF)\n",
      "winds from the SSW at 5.8 m/s (13.1 mph) gusting to 20.2 m/s (45.2 mph)\n",
      "pressure at 6.30 hPa\n"
     ]
    }
   ],
   "source": [
    "# get html to parse\n",
    "url = \"https://twitter.com/marswxreport?lang=en\"\n",
    "r = requests.get(url)\n",
    "assert(r.status_code == 200)\n",
    "soup = BS(r.text, \"html.parser\")\n",
    "\n",
    "# parse html\n",
    "# for some reason this shows up as a `span` via the inspector, but something\n",
    "# goes wrong via requests and even selenium. the 'p' tag below was found via\n",
    "# <str.find> on the request html but does not appear via the inspector.\n",
    "p = soup.find('p', class_=\"tweet-text\")\n",
    "mars_weather = p.text.split(\"pic.twitter.com/\")[0]\n",
    "\n",
    "# display results\n",
    "print(mars_weather)"
   ]
  },
  {
   "cell_type": "code",
   "execution_count": null,
   "metadata": {},
   "outputs": [],
   "source": []
  }
 ],
 "metadata": {
  "kernelspec": {
   "display_name": "Python 3",
   "language": "python",
   "name": "python3"
  },
  "language_info": {
   "codemirror_mode": {
    "name": "ipython",
    "version": 3
   },
   "file_extension": ".py",
   "mimetype": "text/x-python",
   "name": "python",
   "nbconvert_exporter": "python",
   "pygments_lexer": "ipython3",
   "version": "3.7.6"
  }
 },
 "nbformat": 4,
 "nbformat_minor": 4
}
